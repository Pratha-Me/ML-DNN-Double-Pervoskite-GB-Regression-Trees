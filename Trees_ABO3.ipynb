{
 "cells": [
  {
   "cell_type": "code",
   "execution_count": 78,
   "metadata": {},
   "outputs": [
    {
     "name": "stdout",
     "output_type": "stream",
     "text": [
      "The first five smaples from the DataFrame\n",
      "\n",
      "           atomic_ra  atomic_rb  atomic_rc  covl_ra  covl_rb  covl_rc  van_ra  \\\n",
      "compound                                                                        \n",
      "Sr2YTaO6         2.0       1.80       1.45     1.92     1.62     1.38    2.55   \n",
      "Sr2YReO6         2.0       1.80       1.35     1.92     1.62     1.59    2.55   \n",
      "Sr2YIrO6         2.0       1.80       1.35     1.92     1.62     1.37    2.55   \n",
      "Sr2CdWO6         2.0       1.55       1.35     1.92     1.48     1.46    2.55   \n",
      "Sr2ScNbO6        2.0       1.60       1.45     1.92     1.44     1.37    2.55   \n",
      "\n",
      "           van_rb  van_rc  ionic_ra  ...  oxidation_b  oxidation_c      a  \\\n",
      "compound                             ...                                    \n",
      "Sr2YTaO6      2.4    2.20      1.12  ...            3            5  5.927   \n",
      "Sr2YReO6      2.4    2.05      1.12  ...            3            5  5.909   \n",
      "Sr2YIrO6      2.4    0.00      1.12  ...            3            5  5.880   \n",
      "Sr2CdWO6      2.2    2.10      1.12  ...            2            6  5.959   \n",
      "Sr2ScNbO6     2.3    2.15      1.12  ...            3            5  5.765   \n",
      "\n",
      "               b       c    alpha     beta  gamma  BandGap  formationE  \n",
      "compound                                                                \n",
      "Sr2YTaO6   5.927   5.927  120.777  120.777  88.66    3.826      -3.585  \n",
      "Sr2YReO6   5.909   5.909   60.000   60.000  60.00    0.000      -2.997  \n",
      "Sr2YIrO6   5.885  10.084   55.101   90.000  90.00    0.000      -2.780  \n",
      "Sr2CdWO6   5.808  10.098   54.844   90.000  90.00   54.844      -2.625  \n",
      "Sr2ScNbO6  5.767   9.981   54.630   90.000  90.00    2.940      -3.510  \n",
      "\n",
      "[5 rows x 35 columns]\n"
     ]
    }
   ],
   "source": [
    "import pandas as pd\n",
    "import numpy as np\n",
    "import warnings\n",
    "warnings.filterwarnings('ignore')\n",
    "warnings.simplefilter('ignore')\n",
    "\n",
    "\n",
    "# data structure\n",
    "columns = ['compound',\n",
    "    'atomic_ra', 'atomic_rb', 'atomic_rc',  # Atomic radius\n",
    "    'covl_ra', 'covl_rb', 'covl_rc',  # Covalant radius\n",
    "    'van_ra', 'van_rb', 'van_rc',  # Van der Wall radius\n",
    "    'ionic_ra', 'ionic_rb', 'ionic_rc',  # Ionic radius\n",
    "    'atomic_mass_a', 'atomic_mass_b', 'atomic_mass_c',  # Atomic mass\n",
    "    'eNeg_a', 'eNeg_b', 'eNeg_c',  # Electronegativity\n",
    "    'eAffin_a', 'eAffin_b', 'eAffin_c',  # Electron affinity\n",
    "    'firstIoniz_a', 'firstIoniz_b', 'firstIoniz_c',  # First ionization potential\n",
    "    'oxidation_a', 'oxidation_b', 'oxidation_c',  # Oxydation state\n",
    "    'a', 'b', 'c', 'alpha', 'beta', 'gamma',  # Lattice parameters\n",
    "    'BandGap',  # Band gap (some are metal too!)\n",
    "    'formationE',  # Formation enerrgy per atom\n",
    "]\n",
    "\n",
    "lat_df = pd.read_csv('dataFile_new.csv', header=0,\n",
    "                     index_col=0, usecols=columns)\n",
    "print(\"The first five smaples from the DataFrame\\n\")\n",
    "print(lat_df.head())\n"
   ]
  },
  {
   "cell_type": "code",
   "execution_count": 79,
   "metadata": {},
   "outputs": [
    {
     "name": "stdout",
     "output_type": "stream",
     "text": [
      "\n",
      "The first five observations of the features\n",
      "[[2.0000000e+00 1.8000000e+00 1.4500000e+00 1.9200000e+00 1.6200000e+00\n",
      "  1.3800000e+00 2.5500000e+00 2.4000001e+00 2.2000000e+00 1.1200000e+00\n",
      "  8.9999998e-01 6.3999999e-01 8.7620003e+01 8.8905853e+01 1.8094788e+02\n",
      "  9.4999999e-01 1.2200000e+00 1.5000000e+00 5.0200000e+00 3.0000000e+01\n",
      "  3.1000000e+01 5.4950000e+02 6.0000000e+02 7.6100000e+02 2.0000000e+00\n",
      "  3.0000000e+00 5.0000000e+00]\n",
      " [2.0000000e+00 1.8000000e+00 1.3500000e+00 1.9200000e+00 1.6200000e+00\n",
      "  1.5900000e+00 2.5500000e+00 2.4000001e+00 2.0500000e+00 1.1200000e+00\n",
      "  8.9999998e-01 5.7999998e-01 8.7620003e+01 8.8905853e+01 1.8620700e+02\n",
      "  9.4999999e-01 1.2200000e+00 1.9000000e+00 5.0200000e+00 3.0000000e+01\n",
      "  0.0000000e+00 5.4950000e+02 6.0000000e+02 7.6000000e+02 2.0000000e+00\n",
      "  3.0000000e+00 5.0000000e+00]\n",
      " [2.0000000e+00 1.8000000e+00 1.3500000e+00 1.9200000e+00 1.6200000e+00\n",
      "  1.3700000e+00 2.5500000e+00 2.4000001e+00 0.0000000e+00 1.1200000e+00\n",
      "  8.9999998e-01 5.6999999e-01 8.7620003e+01 8.8905853e+01 1.9221700e+02\n",
      "  9.4999999e-01 1.2200000e+00 2.2000000e+00 5.0200000e+00 3.0000000e+01\n",
      "  1.5089999e+02 5.4950000e+02 6.0000000e+02 8.8000000e+02 2.0000000e+00\n",
      "  3.0000000e+00 5.0000000e+00]\n",
      " [2.0000000e+00 1.5500000e+00 1.3500000e+00 1.9200000e+00 1.4800000e+00\n",
      "  1.4600000e+00 2.5500000e+00 2.2000000e+00 2.0999999e+00 1.1200000e+00\n",
      "  9.7000003e-01 6.6000003e-01 8.7620003e+01 1.1241100e+02 1.8384000e+02\n",
      "  9.4999999e-01 1.6900001e+00 2.3599999e+00 5.0200000e+00 0.0000000e+00\n",
      "  7.9000000e+01 5.4950000e+02 8.6779999e+02 7.7000000e+02 2.0000000e+00\n",
      "  2.0000000e+00 6.0000000e+00]\n",
      " [2.0000000e+00 1.6000000e+00 1.4500000e+00 1.9200000e+00 1.4400001e+00\n",
      "  1.3700000e+00 2.5500000e+00 2.3000000e+00 2.1500001e+00 1.1200000e+00\n",
      "  7.2299999e-01 6.3999999e-01 8.7620003e+01 4.4955914e+01 9.2906380e+01\n",
      "  9.4999999e-01 1.3600000e+00 1.6000000e+00 5.0200000e+00 1.8000000e+01\n",
      "  8.6000000e+01 5.4950000e+02 6.3309998e+02 6.5209998e+02 2.0000000e+00\n",
      "  3.0000000e+00 5.0000000e+00]]\n",
      "\n",
      "The first five observations of the targets\n",
      "[[ 5.927  5.927  5.927]\n",
      " [ 5.909  5.909  5.909]\n",
      " [ 5.88   5.885 10.084]\n",
      " [ 5.959  5.808 10.098]\n",
      " [ 5.765  5.767  9.981]]\n"
     ]
    }
   ],
   "source": [
    "features = np.array(lat_df.loc[:, 'atomic_ra':'oxidation_c'], np.float32)\n",
    "targets = np.array(lat_df.loc[:, 'a':'c'], np.float32)\n",
    "# features = np.array(lat_df[['ra', 'rb', 'tolerance', 'rat']], np.float32)\n",
    "# targets = np.array(lat_df[['a', 'b', 'c']], np.float32)\n",
    "\n",
    "print (\"\\nThe first five observations of the features\")\n",
    "print (features[:5,:])\n",
    "print (\"\\nThe first five observations of the targets\")\n",
    "print (targets[:5,:])"
   ]
  },
  {
   "cell_type": "code",
   "execution_count": 80,
   "metadata": {},
   "outputs": [
    {
     "name": "stdout",
     "output_type": "stream",
     "text": [
      "[3.8382712e-01 2.5676575e-01 1.2001347e-01 9.0710968e-02 7.6118931e-02\n",
      " 4.7591321e-02 2.3961993e-02 8.7358640e-04 5.6472862e-05 3.8354909e-05\n",
      " 1.8975437e-05 1.1409301e-05 8.7026001e-06 1.3926040e-06 4.4722245e-07\n",
      " 3.9987944e-07 3.0377439e-07 1.9161850e-07 1.0284596e-07 5.4387836e-08\n",
      " 4.0295816e-08 2.5732811e-09 8.3240532e-16 8.3240532e-16 8.3240532e-16\n",
      " 8.3240532e-16 2.1808114e-17]\n"
     ]
    },
    {
     "data": {
      "image/png": "[encoded data removed]",
      "text/plain": [
       "<Figure size 432x288 with 1 Axes>"
      ]
     },
     "metadata": {
      "needs_background": "light"
     },
     "output_type": "display_data"
    }
   ],
   "source": [
    "from sklearn.decomposition import PCA\n",
    "from matplotlib import pyplot as plt\n",
    "\n",
    "pca = PCA(features.shape[1])\n",
    "pca.fit(features)\n",
    "\n",
    "print (pca.explained_variance_ratio_)\n",
    "\n",
    "cumulative_sum = np.cumsum(pca.explained_variance_ratio_)\n",
    "\n",
    "plt.figure()\n",
    "plt.plot(cumulative_sum)\n",
    "plt.title(\"Elbow Plot for PCA\")\n",
    "plt.ylabel(\"Explained Variance\")\n",
    "plt.xlabel(\"Dimensions/Features\")\n",
    "plt.show()"
   ]
  },
  {
   "cell_type": "code",
   "execution_count": 81,
   "metadata": {},
   "outputs": [
    {
     "name": "stdout",
     "output_type": "stream",
     "text": [
      "0.92743623\n"
     ]
    }
   ],
   "source": [
    "num_features = 5\n",
    "pca = PCA(n_components= num_features)\n",
    "reduced_features = pca.fit_transform(features)\n",
    "\n",
    "print (np.cumsum(pca.explained_variance_ratio_)[-1])"
   ]
  },
  {
   "cell_type": "code",
   "execution_count": 82,
   "metadata": {},
   "outputs": [
    {
     "name": "stdout",
     "output_type": "stream",
     "text": [
      "-0.23595347631824345\n",
      "0.15818421281581307\n"
     ]
    }
   ],
   "source": [
    "from sklearn.model_selection import train_test_split\n",
    "from sklearn.model_selection import KFold\n",
    "from sklearn.ensemble import GradientBoostingRegressor\n",
    "\n",
    "# The seed is required for replication of results. Parameters defined.\n",
    "seed = 1111\n",
    "\n",
    "X = pd.DataFrame(reduced_features, columns = columns[1:num_features+1])\n",
    "y = pd.DataFrame(targets[:, 0], columns = ['a'])\n",
    "\n",
    "k = 4\n",
    "kf = KFold(n_splits=k)\n",
    "scoreMAE = []\n",
    "y_pred = []\n",
    "\n",
    "gbReg = GradientBoostingRegressor(n_estimators=800, max_depth=9, random_state= seed, loss='lad')\n",
    "\n",
    "for train_idx, test_idx in kf.split(X):\n",
    "    X_train, X_test = X.iloc[train_idx, :], X.iloc[test_idx, :]\n",
    "    y_train, y_test = y.iloc[train_idx], y.iloc[test_idx]\n",
    "    \n",
    "    gbReg.fit(X_train, y_train)\n",
    "    y_pred.extend(gbReg.predict(X_train))\n",
    "\n",
    "    scoreMAE.append(gbReg.score(X_test, y_test))\n",
    "    \n",
    "print (sum(scoreMAE)/k)\n",
    "\n",
    "X_train, X_test, y_train, y_test = train_test_split(X, y, test_size=0.2, random_state=42)\n",
    "\n",
    "gbReg.fit(X_train, y_train)\n",
    "print (gbReg.score(X_test, y_test))"
   ]
  },
  {
   "cell_type": "code",
   "execution_count": 83,
   "metadata": {},
   "outputs": [
    {
     "name": "stdout",
     "output_type": "stream",
     "text": [
      "[6.86413336 5.8802512  5.79801386 5.77802    6.46400023 5.64817969\n",
      " 6.49930536 5.94859851 5.42607311 5.68182112 5.78186735 6.67529782\n",
      " 5.79240547 6.19235847 5.66096977 5.73737093 5.72331194 6.05316212\n",
      " 6.59876474 6.13084267]\n"
     ]
    }
   ],
   "source": [
    "y_prediction = gbReg.predict(X_test)\n",
    "print (y_prediction)"
   ]
  },
  {
   "cell_type": "code",
   "execution_count": 84,
   "metadata": {},
   "outputs": [
    {
     "name": "stdout",
     "output_type": "stream",
     "text": [
      "0.5772875423635879\n"
     ]
    }
   ],
   "source": [
    "from sklearn.metrics import mean_absolute_error\n",
    "\n",
    "print (mean_absolute_error(y_test, y_prediction))"
   ]
  },
  {
   "cell_type": "code",
   "execution_count": null,
   "metadata": {},
   "outputs": [],
   "source": []
  }
 ],
 "metadata": {
  "kernelspec": {
   "display_name": "Python 3.8.8 ('base')",
   "language": "python",
   "name": "python3"
  },
  "language_info": {
   "codemirror_mode": {
    "name": "ipython",
    "version": 3
   },
   "file_extension": ".py",
   "mimetype": "text/x-python",
   "name": "python",
   "nbconvert_exporter": "python",
   "pygments_lexer": "ipython3",
   "version": "3.8.8"
  },
  "orig_nbformat": 4,
  "vscode": {
   "interpreter": {
    "hash": "e2bdd490934a09705ff8383ec209f981ee6c3f52d9195f76ed6e6522e520a5e6"
   }
  }
 },
 "nbformat": 4,
 "nbformat_minor": 2
}
